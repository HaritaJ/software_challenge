{
 "cells": [
  {
   "cell_type": "code",
   "execution_count": 5,
   "metadata": {},
   "outputs": [
    {
     "name": "stdout",
     "output_type": "stream",
     "text": [
      "0          PH\n",
      "1          14\n",
      "2        PH-4\n",
      "3        1206\n",
      "4        1407\n",
      "5        PH03\n",
      "6         508\n",
      "7         409\n",
      "8         904\n",
      "9        1009\n",
      "10        805\n",
      "11       1305\n",
      "12        803\n",
      "13       1303\n",
      "14       1302\n",
      "15       1307\n",
      "16       1002\n",
      "17        807\n",
      "18       PH08\n",
      "19        304\n",
      "20       1409\n",
      "21        503\n",
      "22        507\n",
      "23        405\n",
      "24        301\n",
      "25        703\n",
      "26       1001\n",
      "27        201\n",
      "28        701\n",
      "29        704\n",
      "         ... \n",
      "59775      2H\n",
      "59776      4B\n",
      "59777      2D\n",
      "59778      3A\n",
      "59779      3G\n",
      "59780      3H\n",
      "59781      4G\n",
      "59782      3E\n",
      "59783      4A\n",
      "59784      2C\n",
      "59785     PH1\n",
      "59786      4D\n",
      "59787      3B\n",
      "59788      4C\n",
      "59789     PH4\n",
      "59790      2b\n",
      "59791      2G\n",
      "59792     204\n",
      "59793     504\n",
      "59794     302\n",
      "59795     402\n",
      "59796     401\n",
      "59797     303\n",
      "59798     304\n",
      "59799     404\n",
      "59800     405\n",
      "59801     502\n",
      "59802     305\n",
      "59803     301\n",
      "59804     501\n",
      "Name: apartment_number, Length: 59805, dtype: object\n"
     ]
    }
   ],
   "source": [
    "import pandas as pd\n",
    "import re\n",
    "df = pd.read_csv('listings.csv')\n",
    "saved_column = df.apartment_number \n",
    "print(saved_column)"
   ]
  },
  {
   "cell_type": "code",
   "execution_count": 30,
   "metadata": {},
   "outputs": [
    {
     "name": "stdout",
     "output_type": "stream",
     "text": [
      "59805\n",
      "['', '31', '32', 'E']\n",
      "['PH', '18', '19', 'B']\n",
      "['PH', '16', '17', 'B']\n",
      "['', '12', 'JK', '1', '']\n",
      "['', '4', '5', 'R']\n",
      "['', '3', '4', 'B']\n",
      "['', '801', '806', '']\n",
      "['', '49', '50', 'C']\n",
      "['', '300', '301', '']\n",
      "['', '3201', '2', '']\n",
      "['', '8', '9', 'CD']\n",
      "['', '8', '9', 'CD']\n",
      "['', '8', 'D/', '9', 'D']\n",
      "['', '3', 'C', '1', '']\n",
      "['', '711', '12', '']\n",
      "['', '1203', '1204', '']\n",
      "['', '1', '2', '']\n",
      "['', '404', ', ', '405', '']\n"
     ]
    },
    {
     "ename": "AttributeError",
     "evalue": "'float' object has no attribute 'strip'",
     "output_type": "error",
     "traceback": [
      "\u001b[0;31m---------------------------------------------------------------------------\u001b[0m",
      "\u001b[0;31mAttributeError\u001b[0m                            Traceback (most recent call last)",
      "\u001b[0;32m<ipython-input-30-7051abe4da09>\u001b[0m in \u001b[0;36m<module>\u001b[0;34m()\u001b[0m\n\u001b[1;32m      2\u001b[0m \u001b[0mprint\u001b[0m\u001b[0;34m(\u001b[0m\u001b[0mlen\u001b[0m\u001b[0;34m(\u001b[0m\u001b[0msaved_column\u001b[0m\u001b[0;34m)\u001b[0m\u001b[0;34m)\u001b[0m\u001b[0;34m\u001b[0m\u001b[0m\n\u001b[1;32m      3\u001b[0m \u001b[0;32mfor\u001b[0m \u001b[0mitem\u001b[0m \u001b[0;32min\u001b[0m \u001b[0msaved_column\u001b[0m\u001b[0;34m:\u001b[0m\u001b[0;34m\u001b[0m\u001b[0m\n\u001b[0;32m----> 4\u001b[0;31m     \u001b[0mitem\u001b[0m\u001b[0;34m=\u001b[0m\u001b[0mitem\u001b[0m\u001b[0;34m.\u001b[0m\u001b[0mstrip\u001b[0m\u001b[0;34m(\u001b[0m\u001b[0;34m)\u001b[0m\u001b[0;34m\u001b[0m\u001b[0m\n\u001b[0m\u001b[1;32m      5\u001b[0m     \u001b[0msplit_str\u001b[0m\u001b[0;34m=\u001b[0m\u001b[0mre\u001b[0m\u001b[0;34m.\u001b[0m\u001b[0msplit\u001b[0m\u001b[0;34m(\u001b[0m\u001b[0;34m'(\\d+)'\u001b[0m\u001b[0;34m,\u001b[0m\u001b[0mstr\u001b[0m\u001b[0;34m(\u001b[0m\u001b[0mitem\u001b[0m\u001b[0;34m)\u001b[0m\u001b[0;34m)\u001b[0m\u001b[0;34m\u001b[0m\u001b[0m\n\u001b[1;32m      6\u001b[0m     \u001b[0;32mif\u001b[0m \u001b[0;34m'/'\u001b[0m\u001b[0;32min\u001b[0m \u001b[0msplit_str\u001b[0m \u001b[0;34m:\u001b[0m\u001b[0;34m\u001b[0m\u001b[0m\n",
      "\u001b[0;31mAttributeError\u001b[0m: 'float' object has no attribute 'strip'"
     ]
    }
   ],
   "source": [
    "import re\n",
    "print(len(saved_column))\n",
    "for item in saved_column:\n",
    "    item=item.strip()\n",
    "    split_str=re.split('(\\d+)',str(item))\n",
    "    if '/'in split_str :\n",
    "        split_str.remove('/')\n",
    "    if'-' in split_str:\n",
    "        split_str.remove('-')\n",
    "    if len(split_str)>3:\n",
    "        print((split_str))"
   ]
  },
  {
   "cell_type": "code",
   "execution_count": null,
   "metadata": {},
   "outputs": [],
   "source": [
    "def parseApartment(String apt):\n",
    "    boolean parsed = False;\n",
    "    if apt.isNumeric():\n",
    "        parsed = parseNumeric(apt)\n",
    "    else if apt.hasSpecChar():\n",
    "        parsed = parseSpecChar(apt)\n",
    "    else if apt.hasChar():\n",
    "        parsed = parseChar(apt)\n",
    "\n",
    "def parseNumeric(String apt):\n",
    "    "
   ]
  }
 ],
 "metadata": {
  "kernelspec": {
   "display_name": "Python 3",
   "language": "python",
   "name": "python3"
  },
  "language_info": {
   "codemirror_mode": {
    "name": "ipython",
    "version": 3
   },
   "file_extension": ".py",
   "mimetype": "text/x-python",
   "name": "python",
   "nbconvert_exporter": "python",
   "pygments_lexer": "ipython3",
   "version": "3.6.4"
  }
 },
 "nbformat": 4,
 "nbformat_minor": 2
}
