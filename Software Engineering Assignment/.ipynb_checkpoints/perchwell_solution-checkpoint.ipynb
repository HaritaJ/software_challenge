{
 "cells": [
  {
   "cell_type": "code",
   "execution_count": null,
   "metadata": {
    "scrolled": false
   },
   "outputs": [],
   "source": [
    "# import pandas as pd\n",
    "# import re\n",
    "# import sys\n",
    "\n",
    "# df = pd.read_csv('listings.csv')\n",
    "# df = df[pd.notnull(df['apartment_number'])]\n",
    "# #df.shape\n",
    "# for apt in df['apartment_number']:\n",
    "# #     if not isinstance(apt, str):\n",
    "# #         print(\"this is not str: \", apt)\n",
    "# #         _ = input()\n",
    "# #         continue\n",
    "#     if '-' in apt:\n",
    "#         apt=apt.replace('-','')\n",
    "#         print(apt)\n",
    "#         #sys.stdout.flush()\n",
    "        \n",
    "     \n",
    "#         #df['apartment_number'] = df['apartment_number'].map(lambda x: x.strip('-'))\n",
    "# #df=df[df['apartment_number'].str.contains(\"/\",)]\n",
    "# #print(df[apartment_number])"
   ]
  },
  {
   "cell_type": "code",
   "execution_count": null,
   "metadata": {},
   "outputs": [],
   "source": [
    "# # for item in df.apartment_number:\n",
    "# first_slash = item.index(\"/\")\n",
    "# slash_separated = item.split(\"/\")\n",
    "# if len(slash_separated[0])>len(slash_separated[1]):\n",
    "#     result = [slash_separated[0]]\n",
    "#     for element in slash_separated[1:]:\n",
    "#         result.append(slash_separated[0][:-len(element)] + element)\n",
    "# elif len(slash_separated[1])>len(slash_separated[0]) and len(slash_separated[1])-len(slash_separated[0]) ==1:\n",
    "#     result = []\n",
    "#     for element in slash_separated[0:1]:\n",
    "#         result.append(element + slash_separated[1][len(element)] )\n",
    "#     result.append(slash_separated[1])\n",
    "#     print(result)\n",
    "# #     print(result)df.to_csv(df, sep='\\t')\n",
    "    "
   ]
  },
  {
   "cell_type": "code",
   "execution_count": null,
   "metadata": {},
   "outputs": [],
   "source": [
    "# def parseApartment(String apt):\n",
    "#     boolean parsed = False;\n",
    "#     if apt.isNumeric():\n",
    "#         parsed = parseNumeric(apt)\n",
    "#     else if apt.hasSpecChar():\n",
    "#         parsed = parseSpecChar(apt)\n",
    "#     else if apt.hasChar():\n",
    "#         parsed = parseChar(apt)\n",
    "\n",
    "# def parseNumeric(String apt):\n",
    "    "
   ]
  },
  {
   "cell_type": "code",
   "execution_count": 1,
   "metadata": {},
   "outputs": [],
   "source": [
    "import pandas as pd\n",
    "import numpy as np\n",
    "import scipy as sc\n",
    "import datetime\n",
    "import os"
   ]
  },
  {
   "cell_type": "code",
   "execution_count": 19,
   "metadata": {},
   "outputs": [
    {
     "name": "stdout",
     "output_type": "stream",
     "text": [
      "building_id                  int64\n",
      "apartment_number            object\n",
      "list_price                   int64\n",
      "list_date           datetime64[ns]\n",
      "dtype: object\n",
      "\n",
      "building_id                  int64\n",
      "apartment_number            object\n",
      "close_price                float64\n",
      "close_date          datetime64[ns]\n",
      "dtype: object\n"
     ]
    }
   ],
   "source": [
    "# READING CSV INTO DATAFRAME\n",
    "\n",
    "listings = pd.read_csv('listings.csv', header='infer', sep=',',index_col='listing_id')\n",
    "closings = pd.read_csv('closings.csv', header='infer', sep=',',index_col='closing_id')\n",
    "listings['list_date'] = pd.to_datetime(listings['list_date'], format=\"%Y-%m-%d\").dt.floor('d')\n",
    "closings['close_date'] = pd.to_datetime(closings['close_date'], format=\"%Y-%m-%d\")\n",
    "\n",
    "print(listings.dtypes)\n",
    "print()\n",
    "print(closings.dtypes)\n",
    "#print(listings.head())\n",
    "#print(closings.head())"
   ]
  },
  {
   "cell_type": "code",
   "execution_count": 20,
   "metadata": {},
   "outputs": [],
   "source": [
    "constants = set([ 'COMM', 'DUPLEX', 'GARDEN', 'PH', 'TH', 'UNIT'])\n",
    "\n",
    "def date_validation(listing_date, closing_date):\n",
    "    return (listing_date < closing_date)\n",
    "\n",
    "def price_validation(list_price, close_price):\n",
    "    if close_price < (list_price * 1.4):\n",
    "        return True\n",
    "    return False\n",
    "\n",
    "def parse_apartment_number(apt_num):\n",
    "    "
   ]
  },
  {
   "cell_type": "code",
   "execution_count": null,
   "metadata": {},
   "outputs": [],
   "source": []
  }
 ],
 "metadata": {
  "kernelspec": {
   "display_name": "Python 3",
   "language": "python",
   "name": "python3"
  },
  "language_info": {
   "codemirror_mode": {
    "name": "ipython",
    "version": 3
   },
   "file_extension": ".py",
   "mimetype": "text/x-python",
   "name": "python",
   "nbconvert_exporter": "python",
   "pygments_lexer": "ipython3",
   "version": "3.6.4"
  }
 },
 "nbformat": 4,
 "nbformat_minor": 2
}
